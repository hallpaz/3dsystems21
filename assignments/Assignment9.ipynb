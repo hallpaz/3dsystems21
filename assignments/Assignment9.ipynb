{
  "nbformat": 4,
  "nbformat_minor": 0,
  "metadata": {
    "accelerator": "GPU",
    "anp_metadata": {
      "path": "fbsource/fbcode/vision/fair/pytorch3d/docs/tutorials/fit_textured_mesh.ipynb"
    },
    "bento_stylesheets": {
      "bento/extensions/flow/main.css": true,
      "bento/extensions/kernel_selector/main.css": true,
      "bento/extensions/kernel_ui/main.css": true,
      "bento/extensions/new_kernel/main.css": true,
      "bento/extensions/system_usage/main.css": true,
      "bento/extensions/theme/main.css": true
    },
    "colab": {
      "name": "Assignment9.ipynb",
      "provenance": [],
      "toc_visible": true,
      "include_colab_link": true
    },
    "disseminate_notebook_info": {
      "backup_notebook_id": "781874812352022"
    },
    "kernelspec": {
      "name": "python3",
      "display_name": "Python 3"
    },
    "language_info": {
      "name": "python"
    }
  },
  "cells": [
    {
      "cell_type": "markdown",
      "metadata": {
        "id": "view-in-github",
        "colab_type": "text"
      },
      "source": [
        "<a href=\"https://colab.research.google.com/github/hallpaz/3dsystems21/blob/main/assignments/Assignment9.ipynb\" target=\"_parent\"><img src=\"https://colab.research.google.com/assets/colab-badge.svg\" alt=\"Open In Colab\"/></a>"
      ]
    },
    {
      "cell_type": "markdown",
      "metadata": {
        "id": "kuXHJv44fBLe"
      },
      "source": [
        "# Assignment 9 - Estimating Mesh, Texture and Camera using differentiable rendering"
      ]
    },
    {
      "cell_type": "markdown",
      "metadata": {
        "id": "Pmm7W4LJkja3"
      },
      "source": [
        "## 0. Install and Import modules"
      ]
    },
    {
      "cell_type": "markdown",
      "metadata": {
        "id": "c3qkLE0zkja4"
      },
      "source": [
        "Ensure `torch` and `torchvision` are installed. If `pytorch3d` is not installed, install it using the following cell:"
      ]
    },
    {
      "cell_type": "code",
      "metadata": {
        "id": "ERA-pZSukbZ5"
      },
      "source": [
        "import os\n",
        "import sys\n",
        "import torch\n",
        "need_pytorch3d=False\n",
        "try:\n",
        "    import pytorch3d\n",
        "except ModuleNotFoundError:\n",
        "    need_pytorch3d=True\n",
        "if need_pytorch3d:\n",
        "    if torch.__version__.startswith(\"1.7\") and sys.platform.startswith(\"linux\"):\n",
        "        # We try to install PyTorch3D via a released wheel.\n",
        "        version_str=\"\".join([\n",
        "            f\"py3{sys.version_info.minor}_cu\",\n",
        "            torch.version.cuda.replace(\".\",\"\"),\n",
        "            f\"_pyt{torch.__version__[0:5:2]}\"\n",
        "        ])\n",
        "        !pip install pytorch3d -f https://dl.fbaipublicfiles.com/pytorch3d/packaging/wheels/{version_str}/download.html\n",
        "    else:\n",
        "        # We try to install PyTorch3D from source.\n",
        "        !curl -LO https://github.com/NVIDIA/cub/archive/1.10.0.tar.gz\n",
        "        !tar xzf 1.10.0.tar.gz\n",
        "        os.environ[\"CUB_HOME\"] = os.getcwd() + \"/cub-1.10.0\"\n",
        "        !pip install 'git+https://github.com/facebookresearch/pytorch3d.git@stable'"
      ],
      "execution_count": null,
      "outputs": []
    },
    {
      "cell_type": "code",
      "metadata": {
        "id": "c_azltM5kbZ6"
      },
      "source": [
        "import os\n",
        "import torch\n",
        "import matplotlib.pyplot as plt\n",
        "from skimage.io import imread\n",
        "\n",
        "from pytorch3d.utils import ico_sphere\n",
        "import numpy as np\n",
        "from tqdm.notebook import tqdm\n",
        "\n",
        "# Util function for loading meshes\n",
        "from pytorch3d.io import load_objs_as_meshes, save_obj\n",
        "\n",
        "from pytorch3d.loss import (\n",
        "    chamfer_distance, \n",
        "    mesh_edge_loss, \n",
        "    mesh_laplacian_smoothing, \n",
        "    mesh_normal_consistency,\n",
        ")\n",
        "\n",
        "# Data structures and functions for rendering\n",
        "from pytorch3d.structures import Meshes\n",
        "from pytorch3d.renderer import (\n",
        "    look_at_view_transform,\n",
        "    look_at_rotation, \n",
        "    FoVPerspectiveCameras, \n",
        "    PointLights, \n",
        "    DirectionalLights, \n",
        "    Materials, \n",
        "    RasterizationSettings, \n",
        "    MeshRenderer, \n",
        "    MeshRasterizer,  \n",
        "    SoftPhongShader,\n",
        "    SoftSilhouetteShader,\n",
        "    SoftPhongShader,\n",
        "    TexturesVertex\n",
        ")\n",
        "\n",
        "# add path for demo utils functions \n",
        "import sys\n",
        "import os\n",
        "sys.path.append(os.path.abspath(''))"
      ],
      "execution_count": null,
      "outputs": []
    },
    {
      "cell_type": "markdown",
      "metadata": {
        "id": "0od0dVxpkbZ6"
      },
      "source": [
        "If using **Google Colab**, fetch the utils file for plotting image grids:"
      ]
    },
    {
      "cell_type": "code",
      "metadata": {
        "id": "wGKYfu7YkbZ7"
      },
      "source": [
        "!wget https://raw.githubusercontent.com/facebookresearch/pytorch3d/master/docs/tutorials/utils/plot_image_grid.py\n",
        "from plot_image_grid import image_grid"
      ],
      "execution_count": null,
      "outputs": []
    },
    {
      "cell_type": "markdown",
      "metadata": {
        "id": "uynj_MypkbZ7"
      },
      "source": [
        "OR if running **locally** uncomment and run the following cell:"
      ]
    },
    {
      "cell_type": "code",
      "metadata": {
        "id": "G1DXSkOlkbZ7"
      },
      "source": [
        "#  from utils.plot_image_grid import image_grid"
      ],
      "execution_count": null,
      "outputs": []
    },
    {
      "cell_type": "markdown",
      "metadata": {
        "collapsed": true,
        "id": "0p7mbTN8kbZ7"
      },
      "source": [
        "### 1. Load a mesh and texture file\n",
        "\n",
        "Load an `.obj` file and it's associated `.mtl` file and create a **Textures** and **Meshes** object. \n",
        "\n",
        "#### Remember:\n",
        "**Meshes** is a unique datastructure provided in PyTorch3D for working with batches of meshes of different sizes. \n",
        "\n",
        "**TexturesVertex** is an auxillary datastructure for storing vertex rgb texture information about meshes. "
      ]
    },
    {
      "cell_type": "markdown",
      "metadata": {
        "id": "DyFpVoYTkbZ8"
      },
      "source": [
        "If running this notebook using **Google Colab**, run the following cell to fetch the mesh obj and texture files and save it at the path `data/cow_mesh`:\n",
        "If running locally, the data is already available at the correct path. "
      ]
    },
    {
      "cell_type": "code",
      "metadata": {
        "id": "7__01AIjkbZ8"
      },
      "source": [
        "!mkdir -p data/cow_mesh\n",
        "!wget -P data/cow_mesh https://dl.fbaipublicfiles.com/pytorch3d/data/cow_mesh/cow.obj\n",
        "!wget -P data/cow_mesh https://dl.fbaipublicfiles.com/pytorch3d/data/cow_mesh/cow.mtl\n",
        "!wget -P data/cow_mesh https://dl.fbaipublicfiles.com/pytorch3d/data/cow_mesh/cow_texture.png"
      ],
      "execution_count": null,
      "outputs": []
    },
    {
      "cell_type": "code",
      "metadata": {
        "id": "5XXaAAzGkaP5"
      },
      "source": [
        "# Setup\n",
        "if torch.cuda.is_available():\n",
        "    device = torch.device(\"cuda:0\")\n",
        "    torch.cuda.set_device(device)\n",
        "else:\n",
        "    device = torch.device(\"cpu\")\n",
        "\n",
        "# Set paths\n",
        "DATA_DIR = \"./data\"\n",
        "obj_filename = os.path.join(DATA_DIR, \"cow_mesh/cow.obj\")\n",
        "\n",
        "# Load obj file\n",
        "mesh = load_objs_as_meshes([obj_filename], device=device)\n",
        "\n",
        "# As we already did in assignment 6, we scale normalize and center the target \n",
        "# mesh to fit in a sphere of radius 1 centered at (0,0,0). \n",
        "# (scale, center) will be used to bring the predicted mesh \n",
        "# to its original center and scale.  Note that normalizing the target mesh, \n",
        "# speeds up the optimization but is not necessary!\n",
        "verts = mesh.verts_packed()\n",
        "N = verts.shape[0]\n",
        "center = verts.mean(0)\n",
        "scale = max((verts - center).abs().max(0)[0])\n",
        "mesh.offset_verts_(-center)\n",
        "mesh.scale_verts_((1.0 / float(scale)));"
      ],
      "execution_count": null,
      "outputs": []
    },
    {
      "cell_type": "markdown",
      "metadata": {
        "id": "17c4xmtyfBMH"
      },
      "source": [
        "## 2. Dataset Creation\n",
        "\n",
        "We sample different camera positions that encode multiple viewpoints of the cow.  We create a renderer with a shader that performs texture map interpolation.  We render a synthetic dataset of images of the textured cow mesh from multiple viewpoints.\n"
      ]
    },
    {
      "cell_type": "code",
      "metadata": {
        "id": "CDQKebNNfBMI"
      },
      "source": [
        "# the number of different viewpoints from which we want to render the mesh.\n",
        "num_views = 20\n",
        "\n",
        "# Get a batch of viewing angles. \n",
        "elev = torch.linspace(0, 360, num_views)\n",
        "azim = torch.linspace(-180, 180, num_views)\n",
        "\n",
        "# Place a point light in front of the object. As mentioned above, the front of \n",
        "# the cow is facing the -z direction. \n",
        "lights = PointLights(device=device, location=[[0.0, 0.0, -3.0]])\n",
        "\n",
        "# Initialize an OpenGL perspective camera that represents a batch of different \n",
        "# viewing angles. All the cameras helper methods support mixed type inputs and \n",
        "# broadcasting. So we can view the camera from the a distance of dist=2.7, and \n",
        "# then specify elevation and azimuth angles for each viewpoint as tensors. \n",
        "R, T = look_at_view_transform(dist=2.7, elev=elev, azim=azim)\n",
        "cameras = FoVPerspectiveCameras(device=device, R=R, T=T)\n",
        "\n",
        "# We arbitrarily choose one particular view that will be used to visualize \n",
        "# results\n",
        "camera = FoVPerspectiveCameras(device=device, R=R[None, 1, ...], \n",
        "                                  T=T[None, 1, ...]) \n",
        "\n",
        "# Define the settings for rasterization and shading. Here we set the output \n",
        "# image to be of size 128X128. As we are rendering images for visualization \n",
        "# purposes only we will set faces_per_pixel=1 and blur_radius=0.0. Refer to \n",
        "# rasterize_meshes.py for explanations of these parameters.  We also leave \n",
        "# bin_size and max_faces_per_bin to their default values of None, which sets \n",
        "# their values using huristics and ensures that the faster coarse-to-fine \n",
        "# rasterization method is used.  Refer to docs/notes/renderer.md for an \n",
        "# explanation of the difference between naive and coarse-to-fine rasterization. \n",
        "raster_settings = RasterizationSettings(\n",
        "    perspective_correct=False,\n",
        "    image_size=128, \n",
        "    blur_radius=0.0, \n",
        "    faces_per_pixel=1, \n",
        ")\n",
        "\n",
        "# Create a phong renderer by composing a rasterizer and a shader. The textured \n",
        "# phong shader will interpolate the texture uv coordinates for each vertex, \n",
        "# sample from a texture image and apply the Phong lighting model\n",
        "renderer = MeshRenderer(\n",
        "    rasterizer=MeshRasterizer(\n",
        "        cameras=camera, \n",
        "        raster_settings=raster_settings\n",
        "    ),\n",
        "    shader=SoftPhongShader(\n",
        "        device=device, \n",
        "        cameras=camera,\n",
        "        lights=lights\n",
        "    )\n",
        ")\n",
        "\n",
        "# Create a batch of meshes by repeating the cow mesh and associated textures. \n",
        "# Meshes has a useful `extend` method which allows us do this very easily. \n",
        "# This also extends the textures. \n",
        "meshes = mesh.extend(num_views)\n",
        "\n",
        "# Render the cow mesh from each viewing angle\n",
        "target_images = renderer(meshes, cameras=cameras, lights=lights)\n",
        "\n",
        "# Our multi-view cow dataset will be represented by these 2 lists of tensors,\n",
        "# each of length num_views.\n",
        "target_rgb = [target_images[i, ..., :3] for i in range(num_views)]\n",
        "target_cameras = [FoVPerspectiveCameras(device=device, R=R[None, i, ...], \n",
        "                                           T=T[None, i, ...]) for i in range(num_views)]"
      ],
      "execution_count": null,
      "outputs": []
    },
    {
      "cell_type": "markdown",
      "metadata": {
        "id": "TppB4PVmR1Rc"
      },
      "source": [
        "Visualize the dataset:"
      ]
    },
    {
      "cell_type": "code",
      "metadata": {
        "id": "HHE0CnbVR1Rd"
      },
      "source": [
        "# RGB images\n",
        "image_grid(target_images.cpu().numpy(), rows=4, cols=5, rgb=True)\n",
        "plt.show()"
      ],
      "execution_count": null,
      "outputs": []
    },
    {
      "cell_type": "markdown",
      "metadata": {
        "id": "1KGQojK7GIKk"
      },
      "source": [
        "## Questions\n",
        "\n",
        "2.1 Present a high level description of a rendering pipeline based on **rasterization** (*not ray tracing!*). Which steps are inherently not differentiable? How could we re-design these operations to build a fully differentiable pipeline?\n",
        "\n",
        "2.2 Place a point light in the scene and render the meshes again using the silhouette renderer. Does it make any difference? Why?"
      ]
    },
    {
      "cell_type": "code",
      "metadata": {
        "id": "f0Pgqjk-IMAR"
      },
      "source": [
        "##############################################################################\n",
        "# Code and explanations for 2.1 - 2.2\n",
        "##############################################################################"
      ],
      "execution_count": null,
      "outputs": []
    },
    {
      "cell_type": "markdown",
      "metadata": {
        "id": "t3qphI1ElUb5"
      },
      "source": [
        "## 3. Mesh prediction via silhouette rendering\n",
        "In the previous section, we created a dataset of images of multiple viewpoints of a cow.  \n",
        "\n",
        "Later, we will fit a mesh to the rendered RGB images, as well as to just images of just the cow silhouette.  For the latter case, we will render a dataset of silhouette images.  Most shaders in PyTorch3D will output an alpha channel along with the RGB image as a 4th channel in an RGBA image.  The alpha channel encodes the probability that each pixel belongs to the foreground of the object. We contruct a soft silhouette shader to render this alpha channel."
      ]
    },
    {
      "cell_type": "code",
      "metadata": {
        "id": "iP_g-nwX4exM"
      },
      "source": [
        "# Rasterization settings for silhouette rendering  \n",
        "sigma = 1e-4\n",
        "raster_settings_silhouette = RasterizationSettings(\n",
        "    perspective_correct=False,\n",
        "    image_size=128, \n",
        "    blur_radius=np.log(1. / 1e-4 - 1.)*sigma, \n",
        "    faces_per_pixel=50, \n",
        ")\n",
        "\n",
        "# Silhouette renderer \n",
        "renderer_silhouette = MeshRenderer(\n",
        "    rasterizer=MeshRasterizer(\n",
        "        cameras=camera, \n",
        "        raster_settings=raster_settings_silhouette\n",
        "    ),\n",
        "    shader=SoftSilhouetteShader()\n",
        ")\n",
        "\n",
        "# Render silhouette images.  The 3rd channel of the rendering output is \n",
        "# the alpha/silhouette channel\n",
        "silhouette_images = renderer_silhouette(meshes, cameras=cameras, lights=lights)\n",
        "target_silhouette = [silhouette_images[i, ..., 3] for i in range(num_views)]\n",
        "\n",
        "# Visualize silhouette images\n",
        "image_grid(silhouette_images.cpu().numpy(), rows=4, cols=5, rgb=False)\n",
        "plt.show()"
      ],
      "execution_count": null,
      "outputs": []
    },
    {
      "cell_type": "markdown",
      "metadata": {
        "id": "gOb4rYx65E8z"
      },
      "source": [
        "In this section, we predict a mesh by observing those target images without any knowledge of the ground truth cow mesh.  We assume we know the position of the cameras and lighting.\n",
        "\n",
        "We first define some helper functions to visualize the results of our mesh prediction:"
      ]
    },
    {
      "cell_type": "code",
      "metadata": {
        "id": "eeWYHROrR1Rh"
      },
      "source": [
        "# Show a visualization comparing the rendered predicted mesh to the ground truth \n",
        "# mesh\n",
        "def visualize_prediction(predicted_mesh, renderer=renderer_silhouette, \n",
        "                         target_image=target_rgb[1], title='', \n",
        "                         silhouette=False):\n",
        "    inds = 3 if silhouette else range(3)\n",
        "    predicted_images = renderer(predicted_mesh)\n",
        "    plt.figure(figsize=(20, 10))\n",
        "    plt.subplot(1, 2, 1)\n",
        "    plt.imshow(predicted_images[0, ..., inds].cpu().detach().numpy())\n",
        "\n",
        "    plt.subplot(1, 2, 2)\n",
        "    plt.imshow(target_image.cpu().detach().numpy())\n",
        "    plt.title(title)\n",
        "    plt.grid(\"off\")\n",
        "    plt.axis(\"off\")\n",
        "\n",
        "# Plot losses as a function of optimization iteration\n",
        "def plot_losses(losses):\n",
        "    fig = plt.figure(figsize=(13, 5))\n",
        "    ax = fig.gca()\n",
        "    for k, l in losses.items():\n",
        "        ax.plot(l['values'], label=k + \" loss\")\n",
        "    ax.legend(fontsize=\"16\")\n",
        "    ax.set_xlabel(\"Iteration\", fontsize=\"16\")\n",
        "    ax.set_ylabel(\"Loss\", fontsize=\"16\")\n",
        "    ax.set_title(\"Loss vs iterations\", fontsize=\"16\")"
      ],
      "execution_count": null,
      "outputs": []
    },
    {
      "cell_type": "markdown",
      "metadata": {
        "id": "PpsvBpuMR1Ri"
      },
      "source": [
        "Starting from a sphere mesh, we will learn offsets of each vertex such that the predicted mesh silhouette is more similar to the target silhouette image at each optimization step.  We begin by loading our initial sphere mesh:"
      ]
    },
    {
      "cell_type": "code",
      "metadata": {
        "id": "i989ARH1R1Rj"
      },
      "source": [
        "# We initialize the source shape to be a sphere of radius 1.  \n",
        "src_mesh = ico_sphere(4, device)"
      ],
      "execution_count": null,
      "outputs": []
    },
    {
      "cell_type": "markdown",
      "metadata": {
        "id": "SGJKbCB6R1Rk"
      },
      "source": [
        "We initialize settings, losses, and the optimizer that will be used to iteratively fit our mesh to the target silhouettes:"
      ]
    },
    {
      "cell_type": "code",
      "metadata": {
        "id": "0sLrKv_MEULh"
      },
      "source": [
        "# Number of views to optimize over in each SGD iteration\n",
        "num_views_per_iteration = 2\n",
        "# Number of optimization steps\n",
        "Niter = 2000\n",
        "# Plot period for the losses\n",
        "plot_period = 250\n",
        "\n",
        "%matplotlib inline\n",
        "\n",
        "# Optimize using rendered silhouette image loss, mesh edge loss, mesh normal \n",
        "# consistency, and mesh laplacian smoothing\n",
        "losses = {\"silhouette\": {\"weight\": 1.0, \"values\": []},\n",
        "          \"edge\": {\"weight\": 1.0, \"values\": []},\n",
        "          \"normal\": {\"weight\": 0.01, \"values\": []},\n",
        "          \"laplacian\": {\"weight\": 1.0, \"values\": []},\n",
        "         }\n",
        "\n",
        "# Losses to smooth / regularize the mesh shape\n",
        "def update_mesh_shape_prior_losses(mesh, loss):\n",
        "    # and (b) the edge length of the predicted mesh\n",
        "    loss[\"edge\"] = mesh_edge_loss(mesh)\n",
        "    \n",
        "    # mesh normal consistency\n",
        "    loss[\"normal\"] = mesh_normal_consistency(mesh)\n",
        "    \n",
        "    # mesh laplacian smoothing\n",
        "    loss[\"laplacian\"] = mesh_laplacian_smoothing(mesh, method=\"uniform\")\n",
        "\n",
        "# We will learn to deform the source mesh by offsetting its vertices\n",
        "# The shape of the deform parameters is equal to the total number of vertices in\n",
        "# src_mesh\n",
        "verts_shape = src_mesh.verts_packed().shape\n",
        "deform_verts = torch.full(verts_shape, 0.0, device=device, requires_grad=True)\n",
        "\n",
        "# The optimizer\n",
        "optimizer = torch.optim.SGD([deform_verts], lr=1.0, momentum=0.9)"
      ],
      "execution_count": null,
      "outputs": []
    },
    {
      "cell_type": "markdown",
      "metadata": {
        "id": "QLc9zK8lEqFS"
      },
      "source": [
        "We write an optimization loop to iteratively refine our predicted mesh from the sphere mesh into a mesh that matches the sillhouettes of the target images:"
      ]
    },
    {
      "cell_type": "code",
      "metadata": {
        "id": "gCfepfOoR1Rl"
      },
      "source": [
        "loop = tqdm(range(Niter))\n",
        "\n",
        "for i in loop:\n",
        "    # Initialize optimizer\n",
        "    optimizer.zero_grad()\n",
        "    \n",
        "    # Deform the mesh\n",
        "    new_src_mesh = src_mesh.offset_verts(deform_verts)\n",
        "    \n",
        "    # Losses to smooth /regularize the mesh shape\n",
        "    loss = {k: torch.tensor(0.0, device=device) for k in losses}\n",
        "    update_mesh_shape_prior_losses(new_src_mesh, loss)\n",
        "    \n",
        "    # Compute the average silhouette loss over two random views, as the average \n",
        "    # squared L2 distance between the predicted silhouette and the target \n",
        "    # silhouette from our dataset\n",
        "    for j in np.random.permutation(num_views).tolist()[:num_views_per_iteration]:\n",
        "        images_predicted = renderer_silhouette(new_src_mesh, cameras=target_cameras[j], lights=lights)\n",
        "        predicted_silhouette = images_predicted[..., 3]\n",
        "        loss_silhouette = ((predicted_silhouette - target_silhouette[j]) ** 2).mean()\n",
        "        loss[\"silhouette\"] += loss_silhouette / num_views_per_iteration\n",
        "    \n",
        "    # Weighted sum of the losses\n",
        "    sum_loss = torch.tensor(0.0, device=device)\n",
        "    for k, l in loss.items():\n",
        "        sum_loss += l * losses[k][\"weight\"]\n",
        "        losses[k][\"values\"].append(l)\n",
        "    \n",
        "    # Print the losses\n",
        "    loop.set_description(\"total_loss = %.6f\" % sum_loss)\n",
        "    \n",
        "    # Plot mesh\n",
        "    if i % plot_period == 0:\n",
        "        visualize_prediction(new_src_mesh, title=\"iter: %d\" % i, silhouette=True,\n",
        "                             target_image=target_silhouette[1])\n",
        "        \n",
        "    # Optimization step\n",
        "    sum_loss.backward()\n",
        "    optimizer.step()"
      ],
      "execution_count": null,
      "outputs": []
    },
    {
      "cell_type": "code",
      "metadata": {
        "id": "CX4huayKR1Rm",
        "scrolled": true
      },
      "source": [
        "visualize_prediction(new_src_mesh, silhouette=True, \n",
        "                     target_image=target_silhouette[1])\n",
        "plot_losses(losses)"
      ],
      "execution_count": null,
      "outputs": []
    },
    {
      "cell_type": "markdown",
      "metadata": {
        "id": "qD3fEf6sVWpu"
      },
      "source": [
        "## Questions\n",
        "\n",
        "3.1 Visualize the deformed mesh using `Plotly` and describe it qualitatively in comparinson with the target mesh. You can also download it and visualize it in another software if you wish.\n",
        "\n",
        "3.2 Experiment changing the number of images `num_views_per_iteration` used to compute the silhouette loss each iteration. Would it still work if we computed the loss using `num_views_per_iteration`? What if we only had a single image, a single point of view, in our dataset?\n",
        "\n",
        "3.3 Compare the target and source meshes sizes (number of vertices and faces). Are they close? Does the final result improve if you start from a source mesh with more vertices?"
      ]
    },
    {
      "cell_type": "code",
      "metadata": {
        "id": "jCrZ0Ps7NNuW"
      },
      "source": [
        "##############################################################################\n",
        "# Code and explanations for 3.1 - 3.3\n",
        "##############################################################################"
      ],
      "execution_count": null,
      "outputs": []
    },
    {
      "cell_type": "markdown",
      "metadata": {
        "id": "XJDsJQmrR1Ro"
      },
      "source": [
        "## 4. Mesh and texture prediction via textured rendering\n",
        "We can predict both the mesh and its texture if we add an additional loss based on the comparing a predicted rendered RGB image to the target image. As before, we start with a sphere mesh.  We learn both translational offsets and RGB texture colors for each vertex in the sphere mesh.  Since our loss is based on rendered RGB pixel values instead of just the silhouette, we use a **SoftPhongShader** instead of a **SoftSilhouetteShader**."
      ]
    },
    {
      "cell_type": "code",
      "metadata": {
        "id": "aZObyIt9R1Ro"
      },
      "source": [
        "# Rasterization settings for differentiable rendering, where the blur_radius\n",
        "# initialization is based on Liu et al, 'Soft Rasterizer: A Differentiable \n",
        "# Renderer for Image-based 3D Reasoning', ICCV 2019\n",
        "sigma = 1e-4\n",
        "raster_settings_soft = RasterizationSettings(\n",
        "    perspective_correct=False,\n",
        "    image_size=128, \n",
        "    blur_radius=np.log(1. / 1e-4 - 1.)*sigma, \n",
        "    faces_per_pixel=50, \n",
        ")\n",
        "\n",
        "# Differentiable soft renderer using per vertex RGB colors for texture\n",
        "renderer_textured = MeshRenderer(\n",
        "    rasterizer=MeshRasterizer(\n",
        "        cameras=camera, \n",
        "        raster_settings=raster_settings_soft\n",
        "    ),\n",
        "    shader=SoftPhongShader(device=device, \n",
        "        cameras=camera,\n",
        "        lights=lights)\n",
        ")"
      ],
      "execution_count": null,
      "outputs": []
    },
    {
      "cell_type": "markdown",
      "metadata": {
        "id": "NM7gJux8GMQX"
      },
      "source": [
        "We initialize settings, losses, and the optimizer that will be used to iteratively fit our mesh to the target RGB images:"
      ]
    },
    {
      "cell_type": "code",
      "metadata": {
        "id": "BS6LAQquF3wq"
      },
      "source": [
        "# Number of views to optimize over in each SGD iteration\n",
        "num_views_per_iteration = 2\n",
        "# Number of optimization steps\n",
        "Niter = 2000\n",
        "# Plot period for the losses\n",
        "plot_period = 250\n",
        "\n",
        "%matplotlib inline\n",
        "\n",
        "# Optimize using rendered RGB image loss, rendered silhouette image loss, mesh \n",
        "# edge loss, mesh normal consistency, and mesh laplacian smoothing\n",
        "losses = {\"rgb\": {\"weight\": 1.0, \"values\": []},\n",
        "          \"silhouette\": {\"weight\": 1.0, \"values\": []},\n",
        "          \"edge\": {\"weight\": 1.0, \"values\": []},\n",
        "          \"normal\": {\"weight\": 0.01, \"values\": []},\n",
        "          \"laplacian\": {\"weight\": 1.0, \"values\": []},\n",
        "         }\n",
        "\n",
        "# We will learn to deform the source mesh by offsetting its vertices\n",
        "# The shape of the deform parameters is equal to the total number of vertices in \n",
        "# src_mesh\n",
        "verts_shape = src_mesh.verts_packed().shape\n",
        "deform_verts = torch.full(verts_shape, 0.0, device=device, requires_grad=True)\n",
        "\n",
        "# We will also learn per vertex colors for our sphere mesh that define texture \n",
        "# of the mesh\n",
        "sphere_verts_rgb = torch.full([1, verts_shape[0], 3], 0.5, device=device, requires_grad=True)\n",
        "\n",
        "# The optimizer\n",
        "optimizer = torch.optim.SGD([deform_verts, sphere_verts_rgb], lr=1.0, momentum=0.9)"
      ],
      "execution_count": null,
      "outputs": []
    },
    {
      "cell_type": "markdown",
      "metadata": {
        "id": "tzIAycuUR1Rq"
      },
      "source": [
        "We write an optimization loop to iteratively refine our predicted mesh and its vertex colors from the sphere mesh into a mesh that matches the target images:"
      ]
    },
    {
      "cell_type": "code",
      "metadata": {
        "id": "EKEH2p8-R1Rr"
      },
      "source": [
        "loop = tqdm(range(Niter))\n",
        "\n",
        "for i in loop:\n",
        "    # Initialize optimizer\n",
        "    optimizer.zero_grad()\n",
        "    \n",
        "    # Deform the mesh\n",
        "    new_src_mesh = src_mesh.offset_verts(deform_verts)\n",
        "    \n",
        "    # Add per vertex colors to texture the mesh\n",
        "    new_src_mesh.textures = TexturesVertex(verts_features=sphere_verts_rgb) \n",
        "    \n",
        "    # Losses to smooth /regularize the mesh shape\n",
        "    loss = {k: torch.tensor(0.0, device=device) for k in losses}\n",
        "    update_mesh_shape_prior_losses(new_src_mesh, loss)\n",
        "    \n",
        "    # Randomly select two views to optimize over in this iteration.  Compared\n",
        "    # to using just one view, this helps resolve ambiguities between updating\n",
        "    # mesh shape vs. updating mesh texture\n",
        "    for j in np.random.permutation(num_views).tolist()[:num_views_per_iteration]:\n",
        "        images_predicted = renderer_textured(new_src_mesh, cameras=target_cameras[j], lights=lights)\n",
        "\n",
        "        # Squared L2 distance between the predicted silhouette and the target \n",
        "        # silhouette from our dataset\n",
        "        predicted_silhouette = images_predicted[..., 3]\n",
        "        loss_silhouette = ((predicted_silhouette - target_silhouette[j]) ** 2).mean()\n",
        "        loss[\"silhouette\"] += loss_silhouette / num_views_per_iteration\n",
        "        \n",
        "        # Squared L2 distance between the predicted RGB image and the target \n",
        "        # image from our dataset\n",
        "        predicted_rgb = images_predicted[..., :3]\n",
        "        loss_rgb = ((predicted_rgb - target_rgb[j]) ** 2).mean()\n",
        "        loss[\"rgb\"] += loss_rgb / num_views_per_iteration\n",
        "    \n",
        "    # Weighted sum of the losses\n",
        "    sum_loss = torch.tensor(0.0, device=device)\n",
        "    for k, l in loss.items():\n",
        "        sum_loss += l * losses[k][\"weight\"]\n",
        "        losses[k][\"values\"].append(l)\n",
        "    \n",
        "    # Print the losses\n",
        "    loop.set_description(\"total_loss = %.6f\" % sum_loss)\n",
        "    \n",
        "    # Plot mesh\n",
        "    if i % plot_period == 0:\n",
        "        visualize_prediction(new_src_mesh, renderer=renderer_textured, title=\"iter: %d\" % i, silhouette=False)\n",
        "        \n",
        "    # Optimization step\n",
        "    sum_loss.backward()\n",
        "    optimizer.step()\n"
      ],
      "execution_count": null,
      "outputs": []
    },
    {
      "cell_type": "code",
      "metadata": {
        "id": "JJZwSVuYzX-K"
      },
      "source": [
        "plot_losses(losses)"
      ],
      "execution_count": null,
      "outputs": []
    },
    {
      "cell_type": "markdown",
      "metadata": {
        "id": "dXoIsGyhxRyK"
      },
      "source": [
        "## Save the final predicted mesh"
      ]
    },
    {
      "cell_type": "code",
      "metadata": {
        "id": "OQGhV-psKna8"
      },
      "source": [
        "# Fetch the verts and faces of the final predicted mesh\n",
        "final_verts, final_faces = new_src_mesh.get_mesh_verts_faces(0)\n",
        "\n",
        "# Scale normalize back to the original target size\n",
        "final_verts = final_verts * scale + center\n",
        "\n",
        "# Store the predicted mesh using save_obj\n",
        "final_obj = os.path.join('./', 'final_model.obj')\n",
        "save_obj(final_obj, final_verts, final_faces)"
      ],
      "execution_count": null,
      "outputs": []
    },
    {
      "cell_type": "markdown",
      "metadata": {
        "id": "BAqd4eMGg2Me"
      },
      "source": [
        "## Questions\n",
        "\n",
        "4.1 Compare the target and source meshes and describe the result qualitatively.\n",
        "\n",
        "4.2 Do you think it could be better? Analyze the losses values, the meshes, the hyperparemeters and try other values. Even if you don't get a better result, try to explain your intutition for the changes you made.\n",
        "\n",
        "4.3 Make a copy of the target mesh and now try to optimize the texture only, starting from the ground truth geometry. Describe your result.\n",
        "\n",
        "**[EXTRA] E.1 Deform the textured cow into a sphere - you can choose to supervise with multi-view images (of a sphere) or the sphere geometry. Save the result, then deform the textured sphere into the cow again. What happened?**"
      ]
    },
    {
      "cell_type": "code",
      "metadata": {
        "id": "tdl7Vel1zM-Q"
      },
      "source": [
        "##############################################################################\n",
        "# Code and explanations for 4.1 - 4.3 (and optionally E.1)\n",
        "##############################################################################"
      ],
      "execution_count": null,
      "outputs": []
    },
    {
      "cell_type": "markdown",
      "metadata": {
        "id": "LpLhJzLpmrXj"
      },
      "source": [
        "---------"
      ]
    },
    {
      "cell_type": "markdown",
      "metadata": {
        "id": "UgyGjwPiTwtN"
      },
      "source": [
        "# 5 Camera Position Optimization\n",
        "\n",
        "Until now, we assumed we knew the cameras and we learned how to infer the geometry and texture of a mesh using a differentiable renderer and supervising the training with the multiview images dataset. \n",
        "\n",
        "Now, we'll assume we have the geometry and images of the object, but we don't know the cameras. Can we infer the camera position by backpropagation?"
      ]
    },
    {
      "cell_type": "code",
      "metadata": {
        "id": "V786z8mHfG8T"
      },
      "source": [
        "import torch.nn as nn\n",
        "import torch.nn.functional as F\n",
        "import imageio\n",
        "from skimage import img_as_ubyte"
      ],
      "execution_count": null,
      "outputs": []
    },
    {
      "cell_type": "code",
      "metadata": {
        "id": "EjJrW7qerQdo"
      },
      "source": [
        "# Select the viewpoint using spherical angles  \n",
        "distance = 3   # distance from camera to the object\n",
        "elevation = 50.0   # angle of elevation in degrees\n",
        "azimuth = 0.0  # No rotation so the camera is positioned on the +Z axis. \n",
        "\n",
        "# Get the position of the camera based on the spherical angles\n",
        "R, T = look_at_view_transform(distance, elevation, azimuth, device=device)\n",
        "\n",
        "# Render the mesh providing the values of R and T. \n",
        "silhouete = renderer_silhouette(meshes_world=mesh, R=R, T=T)\n",
        "image_ref = renderer(meshes_world=mesh, R=R, T=T)\n",
        "\n",
        "silhouete = silhouete.cpu().numpy()\n",
        "image_ref = image_ref.cpu().numpy()\n",
        "\n",
        "plt.figure(figsize=(10, 10))\n",
        "plt.subplot(1, 2, 1)\n",
        "plt.imshow(silhouete.squeeze()[..., 3])  # only plot the alpha channel of the RGBA image\n",
        "plt.grid(False)\n",
        "plt.subplot(1, 2, 2)\n",
        "plt.imshow(image_ref.squeeze())\n",
        "plt.grid(False)"
      ],
      "execution_count": null,
      "outputs": []
    },
    {
      "cell_type": "markdown",
      "metadata": {
        "id": "plBJwEslrQdt"
      },
      "source": [
        "### Set up a basic model \n",
        "\n",
        "Here we create a simple model class and initialize a parameter for the camera position. "
      ]
    },
    {
      "cell_type": "code",
      "metadata": {
        "id": "YBbP1-EDrQdu"
      },
      "source": [
        "class Model(nn.Module):\n",
        "    def __init__(self, meshes, renderer, image_ref):\n",
        "        super().__init__()\n",
        "        self.meshes = meshes\n",
        "        self.device = meshes.device\n",
        "        self.renderer = renderer\n",
        "        \n",
        "        # Get the silhouette of the reference RGB image by finding all non-white pixel values. \n",
        "        image_ref = torch.from_numpy((image_ref[..., :3].max(-1) != 1).astype(np.float32))\n",
        "        self.register_buffer('image_ref', image_ref)\n",
        "        \n",
        "        # Create an optimizable parameter for the x, y, z position of the camera. \n",
        "        self.camera_position = nn.Parameter(\n",
        "            torch.from_numpy(np.array([3.0,  6.9, +2.5], dtype=np.float32)).to(meshes.device))\n",
        "\n",
        "    def forward(self):\n",
        "        \n",
        "        # Render the image using the updated camera position. Based on the new position of the \n",
        "        # camer we calculate the rotation and translation matrices\n",
        "        R = look_at_rotation(self.camera_position[None, :], device=self.device)  # (1, 3, 3)\n",
        "        T = -torch.bmm(R.transpose(1, 2), self.camera_position[None, :, None])[:, :, 0]   # (1, 3)\n",
        "        \n",
        "        image = self.renderer(meshes_world=self.meshes.clone(), R=R, T=T)\n",
        "        \n",
        "        # Calculate the silhouette loss\n",
        "        loss = torch.sum((image[..., 3] - self.image_ref) ** 2)\n",
        "        return loss, image\n",
        "  "
      ],
      "execution_count": null,
      "outputs": []
    },
    {
      "cell_type": "markdown",
      "metadata": {
        "id": "qCGLSJtfrQdy"
      },
      "source": [
        "### Initialize the model and optimizer\n",
        "\n",
        "Now we can create an instance of the **model** above and set up an **optimizer** for the camera position parameter. "
      ]
    },
    {
      "cell_type": "code",
      "metadata": {
        "id": "srZPBU7_rQdz"
      },
      "source": [
        "# We will save images periodically and compose them into a GIF.\n",
        "filename_output = \"./cow_optimization_demo.gif\"\n",
        "writer = imageio.get_writer(filename_output, mode='I', duration=0.3)\n",
        "\n",
        "# Initialize a model using the renderer, mesh and reference image\n",
        "model = Model(meshes=mesh, renderer=renderer_silhouette, image_ref=image_ref).to(device)\n",
        "\n",
        "# Create an optimizer. Here we are using Adam and we pass in the parameters of the model\n",
        "optimizer = torch.optim.Adam(model.parameters(), lr=0.05)"
      ],
      "execution_count": null,
      "outputs": []
    },
    {
      "cell_type": "markdown",
      "metadata": {
        "id": "dvTLnrWorQd2"
      },
      "source": [
        "### Visualize the starting position and the reference position"
      ]
    },
    {
      "cell_type": "code",
      "metadata": {
        "id": "qyRXpP3mrQd3"
      },
      "source": [
        "plt.figure(figsize=(10, 10))\n",
        "\n",
        "_, image_init = model()\n",
        "plt.subplot(1, 2, 1)\n",
        "plt.imshow(image_init.detach().squeeze().cpu().numpy()[..., 3])\n",
        "plt.grid(False)\n",
        "plt.title(\"Starting position\")\n",
        "\n",
        "plt.subplot(1, 2, 2)\n",
        "plt.imshow(model.image_ref.cpu().numpy().squeeze())\n",
        "plt.grid(False)\n",
        "plt.title(\"Reference silhouette\");\n"
      ],
      "execution_count": null,
      "outputs": []
    },
    {
      "cell_type": "markdown",
      "metadata": {
        "id": "aGJu7h-lrQd5"
      },
      "source": [
        "### Run the optimization \n",
        "\n",
        "We run several iterations of the forward and backward pass and save outputs every 10 iterations. When this has finished take a look at `./cow_optimization_demo.gif` for a cool gif of the optimization process!"
      ]
    },
    {
      "cell_type": "code",
      "metadata": {
        "id": "HvnK5VI5rQd6"
      },
      "source": [
        "loop = tqdm(range(200))\n",
        "for i in loop:\n",
        "    optimizer.zero_grad()\n",
        "    loss, _ = model()\n",
        "    loss.backward()\n",
        "    optimizer.step()\n",
        "    \n",
        "    loop.set_description('Optimizing (loss %.4f)' % loss.data)\n",
        "    \n",
        "    if loss.item() < 100:\n",
        "        print(\"loss below threshold\")\n",
        "        break\n",
        "    \n",
        "    # Save outputs to create a GIF. \n",
        "    if i % 10 == 0:\n",
        "        R = look_at_rotation(model.camera_position[None, :], device=model.device)\n",
        "        T = -torch.bmm(R.transpose(1, 2), model.camera_position[None, :, None])[:, :, 0]   # (1, 3)\n",
        "        image = renderer(meshes_world=model.meshes.clone(), R=R, T=T)\n",
        "        image = image[0, ..., :3].detach().squeeze().cpu().numpy()\n",
        "        image = img_as_ubyte(image)\n",
        "        writer.append_data(image)\n",
        "        \n",
        "        plt.figure()\n",
        "        plt.imshow(image[..., :3])\n",
        "        plt.title(\"iter: %d, loss: %0.2f\" % (i, loss.data))\n",
        "        plt.grid(\"off\")\n",
        "        plt.axis(\"off\")\n",
        "    \n",
        "writer.close()"
      ],
      "execution_count": null,
      "outputs": []
    },
    {
      "cell_type": "markdown",
      "metadata": {
        "id": "obx-ySOHjjsX"
      },
      "source": [
        "# Questions\n",
        "\n",
        "5.1 Evaluate how close our prediction is to the ground truth camera position. Explain your metric.\n",
        "\n",
        "5.2 Experiment with other views - different target images and different initial positions to the camera model. Does it always work?\n",
        "\n",
        "**EXTRA E.2: Could you estimate the scene illumination - in this case, the location of a single point light? Set up and run an example**"
      ]
    },
    {
      "cell_type": "code",
      "metadata": {
        "id": "0Frvwuupm-OP"
      },
      "source": [
        "##############################################################################\n",
        "# Code and explanations for 5.1 - 5.2 (and optionally E.2)\n",
        "##############################################################################"
      ],
      "execution_count": null,
      "outputs": []
    }
  ]
}