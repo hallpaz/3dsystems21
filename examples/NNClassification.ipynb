{
  "nbformat": 4,
  "nbformat_minor": 0,
  "metadata": {
    "colab": {
      "name": "NNClassification.ipynb",
      "provenance": [],
      "mount_file_id": "1gbKrxs8ySfJ-kjfC1ZlEpRcuU0OMGASl",
      "authorship_tag": "ABX9TyM8NIN/5eX0i1CpyJtfLfNn",
      "include_colab_link": true
    },
    "kernelspec": {
      "name": "python3",
      "display_name": "Python 3"
    },
    "accelerator": "GPU",
    "widgets": {
      "application/vnd.jupyter.widget-state+json": {
        "a88eec6be1774cf98f1518504112e09c": {
          "model_module": "@jupyter-widgets/controls",
          "model_name": "HBoxModel",
          "state": {
            "_view_name": "HBoxView",
            "_dom_classes": [],
            "_model_name": "HBoxModel",
            "_view_module": "@jupyter-widgets/controls",
            "_model_module_version": "1.5.0",
            "_view_count": null,
            "_view_module_version": "1.5.0",
            "box_style": "",
            "layout": "IPY_MODEL_c69671d660c04806b4123131c891bde0",
            "_model_module": "@jupyter-widgets/controls",
            "children": [
              "IPY_MODEL_ac220d350f8b45c3b229978615ffcbbe",
              "IPY_MODEL_62a03c2fa76a4f49a5ef7720fcb09615"
            ]
          }
        },
        "c69671d660c04806b4123131c891bde0": {
          "model_module": "@jupyter-widgets/base",
          "model_name": "LayoutModel",
          "state": {
            "_view_name": "LayoutView",
            "grid_template_rows": null,
            "right": null,
            "justify_content": null,
            "_view_module": "@jupyter-widgets/base",
            "overflow": null,
            "_model_module_version": "1.2.0",
            "_view_count": null,
            "flex_flow": null,
            "width": null,
            "min_width": null,
            "border": null,
            "align_items": null,
            "bottom": null,
            "_model_module": "@jupyter-widgets/base",
            "top": null,
            "grid_column": null,
            "overflow_y": null,
            "overflow_x": null,
            "grid_auto_flow": null,
            "grid_area": null,
            "grid_template_columns": null,
            "flex": null,
            "_model_name": "LayoutModel",
            "justify_items": null,
            "grid_row": null,
            "max_height": null,
            "align_content": null,
            "visibility": null,
            "align_self": null,
            "height": null,
            "min_height": null,
            "padding": null,
            "grid_auto_rows": null,
            "grid_gap": null,
            "max_width": null,
            "order": null,
            "_view_module_version": "1.2.0",
            "grid_template_areas": null,
            "object_position": null,
            "object_fit": null,
            "grid_auto_columns": null,
            "margin": null,
            "display": null,
            "left": null
          }
        },
        "ac220d350f8b45c3b229978615ffcbbe": {
          "model_module": "@jupyter-widgets/controls",
          "model_name": "FloatProgressModel",
          "state": {
            "_view_name": "ProgressView",
            "style": "IPY_MODEL_62d4f760c5fd4a28ba680241154fb745",
            "_dom_classes": [],
            "description": "100%",
            "_model_name": "FloatProgressModel",
            "bar_style": "success",
            "max": 100,
            "_view_module": "@jupyter-widgets/controls",
            "_model_module_version": "1.5.0",
            "value": 100,
            "_view_count": null,
            "_view_module_version": "1.5.0",
            "orientation": "horizontal",
            "min": 0,
            "description_tooltip": null,
            "_model_module": "@jupyter-widgets/controls",
            "layout": "IPY_MODEL_e8ea716c9dd34db4a4499aefe6c88f2f"
          }
        },
        "62a03c2fa76a4f49a5ef7720fcb09615": {
          "model_module": "@jupyter-widgets/controls",
          "model_name": "HTMLModel",
          "state": {
            "_view_name": "HTMLView",
            "style": "IPY_MODEL_2bd78f99cb6d4fd5bad461eed05f5d1e",
            "_dom_classes": [],
            "description": "",
            "_model_name": "HTMLModel",
            "placeholder": "​",
            "_view_module": "@jupyter-widgets/controls",
            "_model_module_version": "1.5.0",
            "value": " 100/100 [00:23&lt;00:00,  4.19it/s]",
            "_view_count": null,
            "_view_module_version": "1.5.0",
            "description_tooltip": null,
            "_model_module": "@jupyter-widgets/controls",
            "layout": "IPY_MODEL_2195d7f5cfac462b96e2169f6e24f62f"
          }
        },
        "62d4f760c5fd4a28ba680241154fb745": {
          "model_module": "@jupyter-widgets/controls",
          "model_name": "ProgressStyleModel",
          "state": {
            "_view_name": "StyleView",
            "_model_name": "ProgressStyleModel",
            "description_width": "initial",
            "_view_module": "@jupyter-widgets/base",
            "_model_module_version": "1.5.0",
            "_view_count": null,
            "_view_module_version": "1.2.0",
            "bar_color": null,
            "_model_module": "@jupyter-widgets/controls"
          }
        },
        "e8ea716c9dd34db4a4499aefe6c88f2f": {
          "model_module": "@jupyter-widgets/base",
          "model_name": "LayoutModel",
          "state": {
            "_view_name": "LayoutView",
            "grid_template_rows": null,
            "right": null,
            "justify_content": null,
            "_view_module": "@jupyter-widgets/base",
            "overflow": null,
            "_model_module_version": "1.2.0",
            "_view_count": null,
            "flex_flow": null,
            "width": null,
            "min_width": null,
            "border": null,
            "align_items": null,
            "bottom": null,
            "_model_module": "@jupyter-widgets/base",
            "top": null,
            "grid_column": null,
            "overflow_y": null,
            "overflow_x": null,
            "grid_auto_flow": null,
            "grid_area": null,
            "grid_template_columns": null,
            "flex": null,
            "_model_name": "LayoutModel",
            "justify_items": null,
            "grid_row": null,
            "max_height": null,
            "align_content": null,
            "visibility": null,
            "align_self": null,
            "height": null,
            "min_height": null,
            "padding": null,
            "grid_auto_rows": null,
            "grid_gap": null,
            "max_width": null,
            "order": null,
            "_view_module_version": "1.2.0",
            "grid_template_areas": null,
            "object_position": null,
            "object_fit": null,
            "grid_auto_columns": null,
            "margin": null,
            "display": null,
            "left": null
          }
        },
        "2bd78f99cb6d4fd5bad461eed05f5d1e": {
          "model_module": "@jupyter-widgets/controls",
          "model_name": "DescriptionStyleModel",
          "state": {
            "_view_name": "StyleView",
            "_model_name": "DescriptionStyleModel",
            "description_width": "",
            "_view_module": "@jupyter-widgets/base",
            "_model_module_version": "1.5.0",
            "_view_count": null,
            "_view_module_version": "1.2.0",
            "_model_module": "@jupyter-widgets/controls"
          }
        },
        "2195d7f5cfac462b96e2169f6e24f62f": {
          "model_module": "@jupyter-widgets/base",
          "model_name": "LayoutModel",
          "state": {
            "_view_name": "LayoutView",
            "grid_template_rows": null,
            "right": null,
            "justify_content": null,
            "_view_module": "@jupyter-widgets/base",
            "overflow": null,
            "_model_module_version": "1.2.0",
            "_view_count": null,
            "flex_flow": null,
            "width": null,
            "min_width": null,
            "border": null,
            "align_items": null,
            "bottom": null,
            "_model_module": "@jupyter-widgets/base",
            "top": null,
            "grid_column": null,
            "overflow_y": null,
            "overflow_x": null,
            "grid_auto_flow": null,
            "grid_area": null,
            "grid_template_columns": null,
            "flex": null,
            "_model_name": "LayoutModel",
            "justify_items": null,
            "grid_row": null,
            "max_height": null,
            "align_content": null,
            "visibility": null,
            "align_self": null,
            "height": null,
            "min_height": null,
            "padding": null,
            "grid_auto_rows": null,
            "grid_gap": null,
            "max_width": null,
            "order": null,
            "_view_module_version": "1.2.0",
            "grid_template_areas": null,
            "object_position": null,
            "object_fit": null,
            "grid_auto_columns": null,
            "margin": null,
            "display": null,
            "left": null
          }
        }
      }
    }
  },
  "cells": [
    {
      "cell_type": "markdown",
      "metadata": {
        "id": "view-in-github",
        "colab_type": "text"
      },
      "source": [
        "<a href=\"https://colab.research.google.com/github/hallpaz/3dsystems21/blob/main/examples/NNClassification.ipynb\" target=\"_parent\"><img src=\"https://colab.research.google.com/assets/colab-badge.svg\" alt=\"Open In Colab\"/></a>"
      ]
    },
    {
      "cell_type": "markdown",
      "metadata": {
        "id": "4WsJmjqO44is"
      },
      "source": [
        "# PyTorch Training Example"
      ]
    },
    {
      "cell_type": "markdown",
      "metadata": {
        "id": "UAlhXr6qw-wl"
      },
      "source": [
        "# \"Collecting\" the dataset"
      ]
    },
    {
      "cell_type": "code",
      "metadata": {
        "id": "StMp6dUH40gK"
      },
      "source": [
        "import os\n",
        "import matplotlib.pyplot as plt\n",
        "import torch\n",
        "import torch.nn as nn\n",
        "\n",
        "from torch import optim\n",
        "from torch.utils.data import DataLoader\n",
        "from torchvision.datasets import CIFAR10\n",
        "from torchvision import transforms"
      ],
      "execution_count": null,
      "outputs": []
    },
    {
      "cell_type": "code",
      "metadata": {
        "id": "-fppur_7KRRk"
      },
      "source": [
        "from tqdm.notebook import tqdm"
      ],
      "execution_count": null,
      "outputs": []
    },
    {
      "cell_type": "code",
      "metadata": {
        "id": "KGl6uwnGxhQ7"
      },
      "source": [
        "BASE_DIR = \"/content/drive/MyDrive/s3d21/lab1\"\n",
        "\n",
        "class_names = ['airplane','automobile','bird','cat','deer',\n",
        "               'dog','frog','horse','ship','truck']\n",
        "\n",
        "def get_path(relpath):\n",
        "  return os.path.join(BASE_DIR, relpath)"
      ],
      "execution_count": null,
      "outputs": []
    },
    {
      "cell_type": "code",
      "metadata": {
        "id": "b0zKxoZvxKGX"
      },
      "source": [
        "cifar10_data = CIFAR10(BASE_DIR, train=True, download=True)\n",
        "cifar10_test = CIFAR10(BASE_DIR, train=False, download=True)"
      ],
      "execution_count": null,
      "outputs": []
    },
    {
      "cell_type": "code",
      "metadata": {
        "colab": {
          "base_uri": "https://localhost:8080/"
        },
        "id": "F40wCqEAyYK6",
        "outputId": "6c6ab487-8c7a-4391-b434-f864ed47f8e1"
      },
      "source": [
        "len(cifar10_data)"
      ],
      "execution_count": 6,
      "outputs": [
        {
          "output_type": "execute_result",
          "data": {
            "text/plain": [
              "50000"
            ]
          },
          "metadata": {
            "tags": []
          },
          "execution_count": 6
        }
      ]
    },
    {
      "cell_type": "code",
      "metadata": {
        "colab": {
          "base_uri": "https://localhost:8080/"
        },
        "id": "x1eWhgg0y_sx",
        "outputId": "7d1037a7-35c7-426f-814b-d0bd87e9d278"
      },
      "source": [
        "len(cifar10_test)"
      ],
      "execution_count": 7,
      "outputs": [
        {
          "output_type": "execute_result",
          "data": {
            "text/plain": [
              "10000"
            ]
          },
          "metadata": {
            "tags": []
          },
          "execution_count": 7
        }
      ]
    },
    {
      "cell_type": "code",
      "metadata": {
        "colab": {
          "base_uri": "https://localhost:8080/"
        },
        "id": "y8srotW5zB4X",
        "outputId": "b8e85a60-cd1c-4bb6-9baa-a3886534289a"
      },
      "source": [
        "img, label = cifar10_data[99]\n",
        "img, label, class_names[label]"
      ],
      "execution_count": 8,
      "outputs": [
        {
          "output_type": "execute_result",
          "data": {
            "text/plain": [
              "(<PIL.Image.Image image mode=RGB size=32x32 at 0x7F4A44685D90>,\n",
              " 1,\n",
              " 'automobile')"
            ]
          },
          "metadata": {
            "tags": []
          },
          "execution_count": 8
        }
      ]
    },
    {
      "cell_type": "code",
      "metadata": {
        "colab": {
          "base_uri": "https://localhost:8080/",
          "height": 49
        },
        "id": "184oABTA3rNq",
        "outputId": "77fd4c5f-e7b0-43b9-8bc9-7a53bf787636"
      },
      "source": [
        "img"
      ],
      "execution_count": 10,
      "outputs": [
        {
          "output_type": "execute_result",
          "data": {
            "image/png": "[encoded data removed]",
            "text/plain": [
              "<PIL.Image.Image image mode=RGB size=32x32 at 0x7F4A44685D90>"
            ]
          },
          "metadata": {
            "tags": []
          },
          "execution_count": 10
        }
      ]
    },
    {
      "cell_type": "code",
      "metadata": {
        "colab": {
          "base_uri": "https://localhost:8080/",
          "height": 283
        },
        "id": "2J1Y4thKzYmj",
        "outputId": "78dd90c4-1b56-4062-b4a1-273be72cb361"
      },
      "source": [
        "plt.imshow(img)"
      ],
      "execution_count": 9,
      "outputs": [
        {
          "output_type": "execute_result",
          "data": {
            "text/plain": [
              "<matplotlib.image.AxesImage at 0x7f4a4468e6d0>"
            ]
          },
          "metadata": {
            "tags": []
          },
          "execution_count": 9
        },
        {
          "output_type": "display_data",
          "data": {
            "image/png": "[encoded data removed]",
            "text/plain": [
              "<Figure size 432x288 with 1 Axes>"
            ]
          },
          "metadata": {
            "tags": [],
            "needs_background": "light"
          }
        }
      ]
    },
    {
      "cell_type": "markdown",
      "metadata": {
        "id": "yFOz60bRFIB7"
      },
      "source": [
        "## Transforming the data "
      ]
    },
    {
      "cell_type": "code",
      "metadata": {
        "id": "zk8eppTfGKX1"
      },
      "source": [
        "# Set the device\n",
        "if torch.cuda.is_available():\n",
        "    device = torch.device(\"cuda:0\")\n",
        "else:\n",
        "    device = torch.device(\"cpu\")\n",
        "    print(\"WARNING: CPU only, this will be slow!\")"
      ],
      "execution_count": 11,
      "outputs": []
    },
    {
      "cell_type": "code",
      "metadata": {
        "id": "ELDTW2Zy0dRV"
      },
      "source": [
        "# Applying a transform\n",
        "tensor_cifar10 = CIFAR10(BASE_DIR, train=True, download=False,\n",
        "                         transform=transforms.Compose(\n",
        "                             [ transforms.ToTensor(),\n",
        "                               transforms.Normalize(\n",
        "                                  (0.4914, 0.4822, 0.4465), (0.2470, 0.2435, 0.2616)\n",
        "                               )\n",
        "                             ]\n",
        "                         ))\n",
        "tensor_test_cifar10 = CIFAR10(BASE_DIR, train=False, download=False,\n",
        "                         transform=transforms.Compose(\n",
        "                             [ transforms.ToTensor(),\n",
        "                               transforms.Normalize(\n",
        "                                  (0.4914, 0.4822, 0.4465), (0.2470, 0.2435, 0.2616)\n",
        "                               )\n",
        "                             ]\n",
        "                         ))\n"
      ],
      "execution_count": 12,
      "outputs": []
    },
    {
      "cell_type": "code",
      "metadata": {
        "id": "0zMmO9w00s4Z"
      },
      "source": [
        "# tuple (tensor, label)\n",
        "tensor_img = tensor_cifar10[99][0]"
      ],
      "execution_count": null,
      "outputs": []
    },
    {
      "cell_type": "code",
      "metadata": {
        "id": "N9Hx0Tkl1B1S"
      },
      "source": [
        "tensor_img.shape"
      ],
      "execution_count": null,
      "outputs": []
    },
    {
      "cell_type": "code",
      "metadata": {
        "id": "xz6uHLWd1Vk8"
      },
      "source": [
        "plt.imshow(tensor_img.permute(1, 2, 0))"
      ],
      "execution_count": null,
      "outputs": []
    },
    {
      "cell_type": "code",
      "metadata": {
        "id": "i70m2SUq1qBY"
      },
      "source": [
        "# Normalizing data\n",
        "imgs = torch.stack([img_t for img_t, _ in tensor_cifar10], dim=3)\n",
        "imgs.shape"
      ],
      "execution_count": null,
      "outputs": []
    },
    {
      "cell_type": "code",
      "metadata": {
        "id": "Jq3Xgc2r2VTy"
      },
      "source": [
        "imgs.view(3, -1).mean(dim=1)"
      ],
      "execution_count": null,
      "outputs": []
    },
    {
      "cell_type": "code",
      "metadata": {
        "id": "ehLktfFc3NBJ"
      },
      "source": [
        "imgs.view(3, -1).std(dim=1)"
      ],
      "execution_count": null,
      "outputs": []
    },
    {
      "cell_type": "code",
      "metadata": {
        "colab": {
          "base_uri": "https://localhost:8080/"
        },
        "id": "e0lPoes95DvQ",
        "outputId": "52fb7aea-c374-4e4a-ef29-730a0f285068"
      },
      "source": [
        "tensor_img.shape"
      ],
      "execution_count": 15,
      "outputs": [
        {
          "output_type": "execute_result",
          "data": {
            "text/plain": [
              "torch.Size([3, 32, 32])"
            ]
          },
          "metadata": {
            "tags": []
          },
          "execution_count": 15
        }
      ]
    },
    {
      "cell_type": "code",
      "metadata": {
        "colab": {
          "base_uri": "https://localhost:8080/",
          "height": 300
        },
        "id": "fXrpC0Wj3VQB",
        "outputId": "4ac4ae63-57fb-4672-f106-b994f414a8a6"
      },
      "source": [
        "# After Normalization\n",
        "tensor_img = tensor_cifar10[99][0]\n",
        "plt.imshow(tensor_img.permute(1, 2, 0))"
      ],
      "execution_count": 14,
      "outputs": [
        {
          "output_type": "stream",
          "text": [
            "Clipping input data to the valid range for imshow with RGB data ([0..1] for floats or [0..255] for integers).\n"
          ],
          "name": "stderr"
        },
        {
          "output_type": "execute_result",
          "data": {
            "text/plain": [
              "<matplotlib.image.AxesImage at 0x7f4a3c1c2fd0>"
            ]
          },
          "metadata": {
            "tags": []
          },
          "execution_count": 14
        },
        {
          "output_type": "display_data",
          "data": {
            "image/png": "[encoded data removed]",
            "text/plain": [
              "<Figure size 432x288 with 1 Axes>"
            ]
          },
          "metadata": {
            "tags": [],
            "needs_background": "light"
          }
        }
      ]
    },
    {
      "cell_type": "code",
      "metadata": {
        "id": "1S344-7S4aa2"
      },
      "source": [
        "label_map = {0: 0, 2: 1}\n",
        "class_names = ['airplane', 'bird']\n",
        "cifar2 = [(img, label_map[label])\n",
        "          for img, label in tensor_cifar10\n",
        "          if label in [0, 2]]\n",
        "cifar2_test = [(img, label_map[label])\n",
        "              for img, label in tensor_test_cifar10\n",
        "              if label in [0, 2]]"
      ],
      "execution_count": 16,
      "outputs": []
    },
    {
      "cell_type": "markdown",
      "metadata": {
        "id": "s-G-smfU8M6K"
      },
      "source": [
        "## Dataset Loaders"
      ]
    },
    {
      "cell_type": "code",
      "metadata": {
        "id": "83utmLTn8PhV"
      },
      "source": [
        "batch_size = 64\n",
        "train_loader = DataLoader(cifar2, batch_size=batch_size, shuffle=True)\n",
        "# we'll cover the test set only once\n",
        "test_loader = DataLoader(cifar2_test, batch_size=batch_size, shuffle=False)"
      ],
      "execution_count": 20,
      "outputs": []
    },
    {
      "cell_type": "markdown",
      "metadata": {
        "id": "Ln3mVdp16TNm"
      },
      "source": [
        "## Build Neural network Model"
      ]
    },
    {
      "cell_type": "code",
      "metadata": {
        "id": "g_3dsH5-52vG"
      },
      "source": [
        "out_dim = 2\n",
        "model = nn.Sequential(\n",
        "    nn.Linear(3072, 512),\n",
        "    nn.Tanh(),\n",
        "    nn.Linear(512, out_dim)\n",
        ").to(device)"
      ],
      "execution_count": 21,
      "outputs": []
    },
    {
      "cell_type": "code",
      "metadata": {
        "id": "8CjQtDCS6nMC"
      },
      "source": [
        "loss_fn = nn.CrossEntropyLoss()\n",
        "learning_rate = 1e-2\n",
        "optimizer = optim.SGD(model.parameters(), lr=learning_rate)"
      ],
      "execution_count": 22,
      "outputs": []
    },
    {
      "cell_type": "markdown",
      "metadata": {
        "id": "Fu_bEAgJSOcN"
      },
      "source": [
        "## Training Loop"
      ]
    },
    {
      "cell_type": "code",
      "metadata": {
        "colab": {
          "base_uri": "https://localhost:8080/",
          "height": 236,
          "referenced_widgets": [
            "a88eec6be1774cf98f1518504112e09c",
            "c69671d660c04806b4123131c891bde0",
            "ac220d350f8b45c3b229978615ffcbbe",
            "62a03c2fa76a4f49a5ef7720fcb09615",
            "62d4f760c5fd4a28ba680241154fb745",
            "e8ea716c9dd34db4a4499aefe6c88f2f",
            "2bd78f99cb6d4fd5bad461eed05f5d1e",
            "2195d7f5cfac462b96e2169f6e24f62f"
          ]
        },
        "id": "GtSGm9y-6yYm",
        "outputId": "aad493e4-1bb1-4cef-8e86-3e13841f3134"
      },
      "source": [
        "n_epochs = 100\n",
        "losses = {\"train loss\": []}\n",
        "loop = tqdm(range(n_epochs))\n",
        "\n",
        "for epoch in loop:\n",
        "  loss_train = 0\n",
        "  for imgs, labels in train_loader:\n",
        "    \n",
        "    imgs = imgs.to(device)\n",
        "    labels = labels.to(device)\n",
        "\n",
        "    batch_size = imgs.shape[0]\n",
        "    outputs = model(imgs.view(batch_size, -1))\n",
        "    loss = loss_fn(outputs, labels)\n",
        "    loss_train += loss.item()\n",
        "\n",
        "    optimizer.zero_grad()\n",
        "    loss.backward()\n",
        "    optimizer.step()\n",
        "\n",
        "  if epoch % 10 == 0:\n",
        "    lt = loss_train / len(train_loader)\n",
        "    print(\"Epoch: %d, Loss: %f\" % (epoch, lt))\n",
        "    losses[\"train loss\"].append(lt)\n"
      ],
      "execution_count": 23,
      "outputs": [
        {
          "output_type": "display_data",
          "data": {
            "application/vnd.jupyter.widget-view+json": {
              "model_id": "a88eec6be1774cf98f1518504112e09c",
              "version_minor": 0,
              "version_major": 2
            },
            "text/plain": [
              "HBox(children=(FloatProgress(value=0.0), HTML(value='')))"
            ]
          },
          "metadata": {
            "tags": []
          }
        },
        {
          "output_type": "stream",
          "text": [
            "Epoch: 0, Loss: 0.504529\n",
            "Epoch: 10, Loss: 0.369781\n",
            "Epoch: 20, Loss: 0.293154\n",
            "Epoch: 30, Loss: 0.208382\n",
            "Epoch: 40, Loss: 0.141441\n",
            "Epoch: 50, Loss: 0.089780\n",
            "Epoch: 60, Loss: 0.057825\n",
            "Epoch: 70, Loss: 0.038769\n",
            "Epoch: 80, Loss: 0.028485\n",
            "Epoch: 90, Loss: 0.021026\n",
            "\n"
          ],
          "name": "stdout"
        }
      ]
    },
    {
      "cell_type": "code",
      "metadata": {
        "id": "tC_uwZZHOMxF"
      },
      "source": [
        "def plot_losses(losses):\n",
        "  fig = plt.figure(figsize=(13, 5))\n",
        "  ax = fig.gca()\n",
        "  for loss_name, loss_values in losses.items():  \n",
        "    ax.plot(loss_values, label=loss_name)\n",
        "  ax.legend(fontsize=\"16\")\n",
        "  ax.set_xlabel(\"Iteration\", fontsize=\"16\")\n",
        "  ax.set_ylabel(\"Loss\", fontsize=\"16\")\n",
        "  ax.set_title(\"Loss vs iterations\", fontsize=\"16\");"
      ],
      "execution_count": 24,
      "outputs": []
    },
    {
      "cell_type": "code",
      "metadata": {
        "colab": {
          "base_uri": "https://localhost:8080/",
          "height": 357
        },
        "id": "enNvsS_5O62j",
        "outputId": "5ed66096-db88-43f5-afc6-44de10854d85"
      },
      "source": [
        "plot_losses(losses)"
      ],
      "execution_count": 25,
      "outputs": [
        {
          "output_type": "display_data",
          "data": {
            "image/png": "[encoded data removed]",
            "text/plain": [
              "<Figure size 936x360 with 1 Axes>"
            ]
          },
          "metadata": {
            "tags": [],
            "needs_background": "light"
          }
        }
      ]
    },
    {
      "cell_type": "markdown",
      "metadata": {
        "id": "ch0Qfnax9xLx"
      },
      "source": [
        "## Evaluating the Model"
      ]
    },
    {
      "cell_type": "code",
      "metadata": {
        "colab": {
          "base_uri": "https://localhost:8080/"
        },
        "id": "-FEE_GZX74uj",
        "outputId": "bacb7e63-9478-4c8b-e876-55184fc6a6d4"
      },
      "source": [
        "correct = 0\n",
        "total = 0\n",
        "\n",
        "with torch.no_grad():\n",
        "  for imgs, labels in test_loader:\n",
        "    imgs = imgs.to(device)\n",
        "    labels = labels.to(device)\n",
        "\n",
        "    batch_size = imgs.shape[0]\n",
        "    outputs = model(imgs.view(batch_size, -1))\n",
        "    _, predicted = torch.max(outputs, 1)\n",
        "    total += labels.shape[0]\n",
        "    correct += int((predicted == labels).sum())\n",
        "\n",
        "print(\"Accuracy: %f\", correct / total)"
      ],
      "execution_count": 26,
      "outputs": [
        {
          "output_type": "stream",
          "text": [
            "Accuracy: %f 0.822\n"
          ],
          "name": "stdout"
        }
      ]
    },
    {
      "cell_type": "markdown",
      "metadata": {
        "id": "kJKkIVW3SbVi"
      },
      "source": [
        "## Applying the model to new Data"
      ]
    },
    {
      "cell_type": "code",
      "metadata": {
        "id": "ZCLF_UpNAGu_"
      },
      "source": [
        "from PIL import Image"
      ],
      "execution_count": 27,
      "outputs": []
    },
    {
      "cell_type": "code",
      "metadata": {
        "colab": {
          "base_uri": "https://localhost:8080/",
          "height": 121
        },
        "id": "c3UIdPSSSkPf",
        "outputId": "7ea8c4ea-2ae7-40e1-f80f-b06428198eaf"
      },
      "source": [
        "plane = Image.open(get_path(\"aviao.jpg\"))\n",
        "plane"
      ],
      "execution_count": 28,
      "outputs": [
        {
          "output_type": "execute_result",
          "data": {
            "image/png": "[encoded data removed]",
            "text/plain": [
              "<PIL.JpegImagePlugin.JpegImageFile image mode=RGB size=128x104 at 0x7F4A3A1F9350>"
            ]
          },
          "metadata": {
            "tags": []
          },
          "execution_count": 28
        }
      ]
    },
    {
      "cell_type": "code",
      "metadata": {
        "id": "JZ4tG4AnSqvc"
      },
      "source": [
        "prep_transforms = transforms.Compose(\n",
        "    [transforms.Resize((32, 32)),\n",
        "     transforms.ToTensor(),\n",
        "     transforms.Normalize( (0.4914, 0.4822, 0.4465), (0.2470, 0.2435, 0.2616) )\n",
        "     ]\n",
        ")\n",
        "plane_tensor = prep_transforms(plane)"
      ],
      "execution_count": 29,
      "outputs": []
    },
    {
      "cell_type": "code",
      "metadata": {
        "colab": {
          "base_uri": "https://localhost:8080/",
          "height": 300
        },
        "id": "OOBqwn2SSxJF",
        "outputId": "edc09b16-99fb-4aab-b672-7fc186bfa086"
      },
      "source": [
        "plt.imshow(plane_tensor.permute(1,2, 0))"
      ],
      "execution_count": 30,
      "outputs": [
        {
          "output_type": "stream",
          "text": [
            "Clipping input data to the valid range for imshow with RGB data ([0..1] for floats or [0..255] for integers).\n"
          ],
          "name": "stderr"
        },
        {
          "output_type": "execute_result",
          "data": {
            "text/plain": [
              "<matplotlib.image.AxesImage at 0x7f4a3a1ab250>"
            ]
          },
          "metadata": {
            "tags": []
          },
          "execution_count": 30
        },
        {
          "output_type": "display_data",
          "data": {
            "image/png": "[encoded data removed]",
            "text/plain": [
              "<Figure size 432x288 with 1 Axes>"
            ]
          },
          "metadata": {
            "tags": [],
            "needs_background": "light"
          }
        }
      ]
    },
    {
      "cell_type": "code",
      "metadata": {
        "id": "oJWZhZZDUE5n"
      },
      "source": [
        "batch = plane_tensor.unsqueeze(0).to(device)"
      ],
      "execution_count": 31,
      "outputs": []
    },
    {
      "cell_type": "code",
      "metadata": {
        "colab": {
          "base_uri": "https://localhost:8080/"
        },
        "id": "vyUVIlclVidb",
        "outputId": "dd236652-ebde-46de-8b3a-d30ec681cb77"
      },
      "source": [
        "batch.shape"
      ],
      "execution_count": 32,
      "outputs": [
        {
          "output_type": "execute_result",
          "data": {
            "text/plain": [
              "torch.Size([1, 3, 32, 32])"
            ]
          },
          "metadata": {
            "tags": []
          },
          "execution_count": 32
        }
      ]
    },
    {
      "cell_type": "code",
      "metadata": {
        "colab": {
          "base_uri": "https://localhost:8080/"
        },
        "id": "2bbo1FibT0lS",
        "outputId": "9ccb1f5e-51cb-464c-8510-f468161e4cdb"
      },
      "source": [
        "model.eval()"
      ],
      "execution_count": 33,
      "outputs": [
        {
          "output_type": "execute_result",
          "data": {
            "text/plain": [
              "Sequential(\n",
              "  (0): Linear(in_features=3072, out_features=512, bias=True)\n",
              "  (1): Tanh()\n",
              "  (2): Linear(in_features=512, out_features=2, bias=True)\n",
              ")"
            ]
          },
          "metadata": {
            "tags": []
          },
          "execution_count": 33
        }
      ]
    },
    {
      "cell_type": "code",
      "metadata": {
        "colab": {
          "base_uri": "https://localhost:8080/"
        },
        "id": "aX-EZZ2FUBRB",
        "outputId": "0132d441-877b-424b-a5a6-ca97f2e24d57"
      },
      "source": [
        "output = model(batch.view(-1))\n",
        "output"
      ],
      "execution_count": 34,
      "outputs": [
        {
          "output_type": "execute_result",
          "data": {
            "text/plain": [
              "tensor([ 4.1601, -4.1277], device='cuda:0', grad_fn=<AddBackward0>)"
            ]
          },
          "metadata": {
            "tags": []
          },
          "execution_count": 34
        }
      ]
    },
    {
      "cell_type": "code",
      "metadata": {
        "colab": {
          "base_uri": "https://localhost:8080/"
        },
        "id": "NFR24eDcWkad",
        "outputId": "599dd36e-c713-4b8a-f797-af474ae51237"
      },
      "source": [
        "logits = torch.nn.functional.softmax(output, dim=0) * 100\n",
        "print(f\"Plane score: {logits[0].item()}\\n Bird score: {logits[1].item()}\")"
      ],
      "execution_count": 35,
      "outputs": [
        {
          "output_type": "stream",
          "text": [
            "Plane score: 99.974853515625\n",
            " Bird score: 0.025148777291178703\n"
          ],
          "name": "stdout"
        }
      ]
    },
    {
      "cell_type": "code",
      "metadata": {
        "colab": {
          "base_uri": "https://localhost:8080/",
          "height": 145
        },
        "id": "4qxp8dYBXfFh",
        "outputId": "ab1b26ed-c400-4904-e305-2c1f6e5bef51"
      },
      "source": [
        "bird = Image.open(get_path(\"passaro.jpg\"))\n",
        "bird"
      ],
      "execution_count": 36,
      "outputs": [
        {
          "output_type": "execute_result",
          "data": {
            "image/png": "[encoded data removed]",
            "text/plain": [
              "<PIL.JpegImagePlugin.JpegImageFile image mode=RGB size=128x128 at 0x7F4A3A1D7A50>"
            ]
          },
          "metadata": {
            "tags": []
          },
          "execution_count": 36
        }
      ]
    },
    {
      "cell_type": "code",
      "metadata": {
        "colab": {
          "base_uri": "https://localhost:8080/",
          "height": 300
        },
        "id": "uEjhVyKpYJE7",
        "outputId": "e105904e-6b3b-4a06-d46c-56864e5a778a"
      },
      "source": [
        "bird_tensor = prep_transforms(bird)\n",
        "plt.imshow(bird_tensor.permute(1, 2, 0))"
      ],
      "execution_count": 37,
      "outputs": [
        {
          "output_type": "stream",
          "text": [
            "Clipping input data to the valid range for imshow with RGB data ([0..1] for floats or [0..255] for integers).\n"
          ],
          "name": "stderr"
        },
        {
          "output_type": "execute_result",
          "data": {
            "text/plain": [
              "<matplotlib.image.AxesImage at 0x7f4a3a16e910>"
            ]
          },
          "metadata": {
            "tags": []
          },
          "execution_count": 37
        },
        {
          "output_type": "display_data",
          "data": {
            "image/png": "[encoded data removed]",
            "text/plain": [
              "<Figure size 432x288 with 1 Axes>"
            ]
          },
          "metadata": {
            "tags": [],
            "needs_background": "light"
          }
        }
      ]
    },
    {
      "cell_type": "code",
      "metadata": {
        "id": "gasNkz4FYTjl"
      },
      "source": [
        "batch = bird_tensor.unsqueeze(0).to(device)"
      ],
      "execution_count": 38,
      "outputs": []
    },
    {
      "cell_type": "code",
      "metadata": {
        "colab": {
          "base_uri": "https://localhost:8080/"
        },
        "id": "0SDtBxDlYXqr",
        "outputId": "464a4c6d-8146-457d-890c-3d50707182c9"
      },
      "source": [
        "output = model(batch.view(-1))\n",
        "output"
      ],
      "execution_count": 39,
      "outputs": [
        {
          "output_type": "execute_result",
          "data": {
            "text/plain": [
              "tensor([-5.7421,  5.3987], device='cuda:0', grad_fn=<AddBackward0>)"
            ]
          },
          "metadata": {
            "tags": []
          },
          "execution_count": 39
        }
      ]
    },
    {
      "cell_type": "code",
      "metadata": {
        "colab": {
          "base_uri": "https://localhost:8080/"
        },
        "id": "QwMm-yNCYbju",
        "outputId": "ecc6a105-a4b6-445e-aaae-2ae3f51e07d6"
      },
      "source": [
        "logits = torch.nn.functional.softmax(output, dim=0) * 100\n",
        "print(f\"Plane score: {logits[0].item()}\\n Bird score: {logits[1].item()}\")"
      ],
      "execution_count": 40,
      "outputs": [
        {
          "output_type": "stream",
          "text": [
            "Plane score: 0.001450760057196021\n",
            " Bird score: 99.99854278564453\n"
          ],
          "name": "stdout"
        }
      ]
    }
  ]
}